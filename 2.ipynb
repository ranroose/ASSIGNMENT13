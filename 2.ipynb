{
 "cells": [
  {
   "cell_type": "code",
   "execution_count": 6,
   "id": "e1a6da08-2e07-4179-9348-a90129054f40",
   "metadata": {
    "tags": []
   },
   "outputs": [
    {
     "name": "stdout",
     "output_type": "stream",
     "text": [
      "9\n",
      "17\n",
      "24\n",
      "30\n",
      "35\n",
      "39\n",
      "42\n",
      "44\n",
      "45\n",
      "45\n",
      "55\n",
      "64\n",
      "72\n",
      "79\n",
      "85\n",
      "90\n",
      "94\n",
      "97\n",
      "99\n",
      "110\n",
      "120\n",
      "129\n",
      "137\n",
      "144\n",
      "150\n",
      "155\n",
      "159\n",
      "171\n",
      "182\n",
      "192\n",
      "201\n",
      "209\n",
      "216\n",
      "222\n",
      "235\n",
      "247\n",
      "258\n",
      "268\n",
      "277\n",
      "285\n",
      "299\n",
      "312\n",
      "324\n",
      "335\n",
      "345\n",
      "360\n",
      "374\n",
      "387\n",
      "399\n",
      "415\n",
      "430\n",
      "444\n",
      "461\n",
      "477\n",
      "495\n"
     ]
    }
   ],
   "source": [
    "#2.1\n",
    "a = 0\n",
    "for i in range(n):\n",
    "    for j in reversed(range(i, n)):\n",
    "        a = a + i + j\n",
    "        print(a)\n"
   ]
  },
  {
   "cell_type": "code",
   "execution_count": 3,
   "id": "f2743c99-1e0f-496a-9609-74a1d30987a2",
   "metadata": {
    "tags": []
   },
   "outputs": [
    {
     "name": "stdout",
     "output_type": "stream",
     "text": [
      "0\n",
      "2\n",
      "4\n",
      "6\n",
      "8\n",
      "10\n",
      "12\n",
      "14\n",
      "16\n",
      "18\n"
     ]
    }
   ],
   "source": [
    "#2.2\n",
    "for i in range(n):\n",
    "    i *= 2\n",
    "    print(i)\n"
   ]
  },
  {
   "cell_type": "code",
   "execution_count": 4,
   "id": "f831898f-acc8-435c-ab05-617dd9f17569",
   "metadata": {
    "tags": []
   },
   "outputs": [
    {
     "name": "stdout",
     "output_type": "stream",
     "text": [
      "0\n"
     ]
    }
   ],
   "source": [
    "#2.3\n",
    "def algo(items):\n",
    "    print(min(items) + 5)\n",
    "\n",
    "algo([4, 5, 6, 8, -5, 10, 12])\n"
   ]
  },
  {
   "cell_type": "code",
   "execution_count": 1,
   "id": "7f4a3ce9-b0f4-4a24-a26e-32e83bf4640e",
   "metadata": {
    "tags": []
   },
   "outputs": [
    {
     "name": "stdout",
     "output_type": "stream",
     "text": [
      "Total iterations: 1000\n"
     ]
    }
   ],
   "source": [
    "#2.4\n",
    "n = 10  # You can set n to any positive integer\n",
    "count = 0\n",
    "for i in range(n):\n",
    "    for j in range(n):\n",
    "        for k in range(n):\n",
    "            count += 1  # Constant-time operation\n",
    "\n",
    "print(f\"Total iterations: {count}\")\n"
   ]
  },
  {
   "cell_type": "code",
   "execution_count": null,
   "id": "81e21675-a7fb-4f45-b5ba-29b3b53a69a1",
   "metadata": {},
   "outputs": [],
   "source": []
  }
 ],
 "metadata": {
  "kernelspec": {
   "display_name": "Python 3 (ipykernel)",
   "language": "python",
   "name": "python3"
  },
  "language_info": {
   "codemirror_mode": {
    "name": "ipython",
    "version": 3
   },
   "file_extension": ".py",
   "mimetype": "text/x-python",
   "name": "python",
   "nbconvert_exporter": "python",
   "pygments_lexer": "ipython3",
   "version": "3.10.8"
  }
 },
 "nbformat": 4,
 "nbformat_minor": 5
}
